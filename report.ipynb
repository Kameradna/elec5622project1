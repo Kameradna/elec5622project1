{
 "cells": [
  {
   "cell_type": "markdown",
   "metadata": {},
   "source": [
    "# Project report"
   ]
  },
  {
   "cell_type": "markdown",
   "metadata": {},
   "source": [
    "I thought it might be best if we have a common place to paste images and thoughts. Outputting ipynb to LateX is an excellent way of easily making a nice looking report too."
   ]
  }
 ],
 "metadata": {
  "kernelspec": {
   "display_name": "Python 3.7.13 ('elec5622project1')",
   "language": "python",
   "name": "python3"
  },
  "language_info": {
   "name": "python",
   "version": "3.7.13"
  },
  "orig_nbformat": 4,
  "vscode": {
   "interpreter": {
    "hash": "2acd13fd186c21c0b417d6bed67ec7da2c93f059cf52f4fb3f5a85d92abe7394"
   }
  }
 },
 "nbformat": 4,
 "nbformat_minor": 2
}
